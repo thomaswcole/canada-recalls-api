{
 "cells": [
  {
   "cell_type": "markdown",
   "metadata": {},
   "source": [
    "## *Canadian Automotive Recall Database API*"
   ]
  },
  {
   "cell_type": "code",
   "execution_count": 1,
   "metadata": {},
   "outputs": [],
   "source": [
    "from canada_recalls import *"
   ]
  },
  {
   "cell_type": "code",
   "execution_count": 2,
   "metadata": {},
   "outputs": [],
   "source": [
    "c = CanadaRecalls()"
   ]
  },
  {
   "cell_type": "markdown",
   "metadata": {},
   "source": [
    "*Recall by Recall Number*"
   ]
  },
  {
   "cell_type": "code",
   "execution_count": 11,
   "metadata": {},
   "outputs": [
    {
     "data": {
      "text/plain": [
       "{'ResultSet': [[{'Name': 'Recall number',\n",
       "    'Value': {'Type': 'System.String', 'Literal': '2024200'}},\n",
       "   {'Name': 'Manufacturer Name',\n",
       "    'Value': {'Type': 'System.String',\n",
       "     'Literal': 'FIAT CHRYSLER AUTOMOBILES'}},\n",
       "   {'Name': 'Model name',\n",
       "    'Value': {'Type': 'System.String', 'Literal': 'PACIFICA'}},\n",
       "   {'Name': 'Make name',\n",
       "    'Value': {'Type': 'System.String', 'Literal': 'CHRYSLER'}},\n",
       "   {'Name': 'Year', 'Value': {'Type': 'System.Decimal', 'Literal': '2024'}},\n",
       "   {'Name': 'Recall date',\n",
       "    'Value': {'Type': 'System.DateTime',\n",
       "     'Literal': '3/28/2024 12:00:00 AM'}}]]}"
      ]
     },
     "execution_count": 11,
     "metadata": {},
     "output_type": "execute_result"
    }
   ],
   "source": [
    "c.query(recallNumber=\"2024200\")"
   ]
  },
  {
   "cell_type": "markdown",
   "metadata": {},
   "source": [
    "*Recall Count Multiple Parameters*"
   ]
  },
  {
   "cell_type": "code",
   "execution_count": 15,
   "metadata": {},
   "outputs": [
    {
     "data": {
      "text/plain": [
       "{'ResultSet': [[{'Name': 'Result Count',\n",
       "    'Value': {'Type': 'System.Decimal', 'Literal': '12'}}]]}"
      ]
     },
     "execution_count": 15,
     "metadata": {},
     "output_type": "execute_result"
    }
   ],
   "source": [
    "c.query(makeName = ['CHRYSLER','FORD'],minModelYear='2024',count = True)"
   ]
  },
  {
   "cell_type": "code",
   "execution_count": null,
   "metadata": {},
   "outputs": [],
   "source": []
  }
 ],
 "metadata": {
  "kernelspec": {
   "display_name": ".venv",
   "language": "python",
   "name": "python3"
  },
  "language_info": {
   "codemirror_mode": {
    "name": "ipython",
    "version": 3
   },
   "file_extension": ".py",
   "mimetype": "text/x-python",
   "name": "python",
   "nbconvert_exporter": "python",
   "pygments_lexer": "ipython3",
   "version": "3.11.8"
  }
 },
 "nbformat": 4,
 "nbformat_minor": 2
}
